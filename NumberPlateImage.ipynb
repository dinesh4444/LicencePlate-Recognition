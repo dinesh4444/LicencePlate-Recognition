{
 "cells": [
  {
   "cell_type": "code",
   "execution_count": 1,
   "id": "4f6c5adf",
   "metadata": {
    "collapsed": true
   },
   "outputs": [
    {
     "ename": "ModuleNotFoundError",
     "evalue": "No module named 'authKey'",
     "output_type": "error",
     "traceback": [
      "\u001b[1;31m---------------------------------------------------------------------------\u001b[0m",
      "\u001b[1;31mModuleNotFoundError\u001b[0m                       Traceback (most recent call last)",
      "\u001b[1;32m~\\AppData\\Local\\Temp\\ipykernel_8284\\280976062.py\u001b[0m in \u001b[0;36m<module>\u001b[1;34m\u001b[0m\n\u001b[0;32m      2\u001b[0m \u001b[1;32mimport\u001b[0m \u001b[0mbase64\u001b[0m\u001b[1;33m\u001b[0m\u001b[1;33m\u001b[0m\u001b[0m\n\u001b[0;32m      3\u001b[0m \u001b[1;32mimport\u001b[0m \u001b[0mrequests\u001b[0m\u001b[1;33m\u001b[0m\u001b[1;33m\u001b[0m\u001b[0m\n\u001b[1;32m----> 4\u001b[1;33m \u001b[1;32mfrom\u001b[0m \u001b[0mauthKey\u001b[0m \u001b[1;32mimport\u001b[0m \u001b[0mSECREAT_KEY\u001b[0m\u001b[1;33m\u001b[0m\u001b[1;33m\u001b[0m\u001b[0m\n\u001b[0m",
      "\u001b[1;31mModuleNotFoundError\u001b[0m: No module named 'authKey'"
     ]
    }
   ],
   "source": [
    "import json\n",
    "import base64\n",
    "import requests\n",
    "from authKey import SECREAT_KEY"
   ]
  },
  {
   "cell_type": "code",
   "execution_count": null,
   "id": "5ca85627",
   "metadata": {},
   "outputs": [],
   "source": [
    "IMAGE_PATH = \"imagepath\"\n",
    "\n",
    "with open(IMAGE_PATH, 'rb') as image_file:\n",
    "    img_base64 = base64.b64decode(image_file.read())\n",
    "    \n",
    "url = \"https:// api url path\" %(SECRET_KEY)   #SECRET_KEY = api key\n",
    "r = requests.post(url, data=img_base64)\n",
    "\n",
    "num_plate = (json.dumps(r.json(), indent=2))\n",
    "info = (list(num_plate.split('candidates')))\n",
    "print(info)\n",
    "plate = info[1]\n",
    "plate = plate.split(\",\")[0:3]\n",
    "p = plate[1]\n",
    "p1 = p.split(\":\")\n",
    "number = p1[1]\n",
    "number = number.replace('\"\"', '')\n",
    "number = number.lstrip()\n",
    "print(number)\n",
    "\n",
    "if number == \"MH00AA0000\":     #set number plate example\n",
    "    print(\"---------------------------------\")\n",
    "    print(\"Owner Name: XYZ\")\n",
    "    print(\"vehicle Number: %s\"%number)\n",
    "    print(\"Address: ABCD\")"
   ]
  }
 ],
 "metadata": {
  "kernelspec": {
   "display_name": "Python 3 (ipykernel)",
   "language": "python",
   "name": "python3"
  },
  "language_info": {
   "codemirror_mode": {
    "name": "ipython",
    "version": 3
   },
   "file_extension": ".py",
   "mimetype": "text/x-python",
   "name": "python",
   "nbconvert_exporter": "python",
   "pygments_lexer": "ipython3",
   "version": "3.9.13"
  }
 },
 "nbformat": 4,
 "nbformat_minor": 5
}
