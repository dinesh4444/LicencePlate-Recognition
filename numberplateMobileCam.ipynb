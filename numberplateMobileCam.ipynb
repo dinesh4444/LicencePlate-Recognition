{
 "cells": [
  {
   "cell_type": "code",
   "execution_count": 1,
   "id": "8f5fc072",
   "metadata": {},
   "outputs": [],
   "source": [
    "import cv2\n",
    "import time\n",
    "import json\n",
    "import base64\n",
    "import urllib.request\n",
    "import imutils\n",
    "import requests\n",
    "import numpy as np"
   ]
  },
  {
   "cell_type": "code",
   "execution_count": 2,
   "id": "f29f522f",
   "metadata": {},
   "outputs": [],
   "source": [
    "def camera():\n",
    "    url = \"any mobile webcame url\"\n",
    "    imgPath = urllib.request.urlopen(url)\n",
    "    imgNP = np.array(bytearray(imgPath.read()), dtype=np.uint8)\n",
    "    img = cv2.imdecode(imgNP, -1)\n",
    "    img = imutils.resize(img, width=600)\n",
    "    cv2.imshow(\"frame\", img)\n",
    "    return img"
   ]
  },
  {
   "cell_type": "code",
   "execution_count": null,
   "id": "315b0929",
   "metadata": {},
   "outputs": [],
   "source": [
    "while True:\n",
    "    img = camera()\n",
    "    key = cv2.waitKey(1) & 0xFF\n",
    "    if (key == ord('q')):\n",
    "        cv2.destroyAllWindows()\n",
    "        print(\"Captured...\")\n",
    "        cv2.imwrite(\"image.jpg\", img)\n",
    "        time.sleep(5)\n",
    "        IMAGE_PATH = 'image.jpg'\n",
    "        SECRET_KEY = \" your API key\"\n",
    "        with open(IMAGE_PATH, 'rb') as image_file:\n",
    "            img_base64 = base64.b64decode(image_file.read())\n",
    "        url = \"source URL from you gets API&secret_key=%s\"%(SECRET_KEY)\n",
    "        r = requests.post(url, data=img_base64)\n",
    "        \n",
    "        num_plate = (json.dumps(r.json(), indent=2))\n",
    "        info = (list(num_plate.split(\"candidates\")))\n",
    "        plate = info[1]\n",
    "        plate = plate.split(\", \")[0:3]\n",
    "        p = plate[1]\n",
    "        p1 = p.split(\":\")\n",
    "        number = p1[1]\n",
    "        number = number.replace('\"\"','')\n",
    "        number = number.lstrip()\n",
    "        print(number)\n",
    "        \n",
    "        if number == \"MH00ER0000\":            #Number plate \n",
    "            print(\"------------------------------\")\n",
    "            print(\"Owner Name: XYZ\")\n",
    "            print(\"Vehicle Number: %s\"%number)\n",
    "            print(\"Address: ABCD\")\n",
    "            \n",
    "    elif key == 27:\n",
    "        break\n",
    "cv2.destroyAllWindows()       \n"
   ]
  }
 ],
 "metadata": {
  "kernelspec": {
   "display_name": "Python 3 (ipykernel)",
   "language": "python",
   "name": "python3"
  },
  "language_info": {
   "codemirror_mode": {
    "name": "ipython",
    "version": 3
   },
   "file_extension": ".py",
   "mimetype": "text/x-python",
   "name": "python",
   "nbconvert_exporter": "python",
   "pygments_lexer": "ipython3",
   "version": "3.9.13"
  }
 },
 "nbformat": 4,
 "nbformat_minor": 5
}
