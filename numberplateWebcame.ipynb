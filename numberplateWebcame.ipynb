{
 "cells": [
  {
   "cell_type": "code",
   "execution_count": null,
   "id": "2a9d8d26",
   "metadata": {},
   "outputs": [],
   "source": [
    "import cv2\n",
    "import time\n",
    "import json\n",
    "import base64\n",
    "import requests\n",
    "from authKey import SECRET_KEY\n",
    "\n",
    "cam = cv2.VideoCapture(1)"
   ]
  },
  {
   "cell_type": "code",
   "execution_count": null,
   "id": "8e1376fb",
   "metadata": {},
   "outputs": [],
   "source": [
    "while True:\n",
    "\n",
    "    _,img = cam.read()\n",
    "    key = cv2.waitKey(1) & 0xff\n",
    "    cv2.imshow(\"LicensePlate\",img)\n",
    "    if ( key == ord('q')):\n",
    "        \n",
    "        cv2.destroyAllWindows()       \n",
    "        print(\"Captured...\")\n",
    "        cv2.imwrite(\"first.jpg\",img)       \n",
    "        time.sleep(5)        \n",
    "        IMAGE_PATH = 'first.jpg'\n",
    "\n",
    "        with open(IMAGE_PATH, 'rb') as image_file:\n",
    "            img_base64 = base64.b64encode(image_file.read())\n",
    "\n",
    "        url = 'Source of API &secret_key=%s' % (SECRET_KEY)\n",
    "        r = requests.post(url, data = img_base64)\n",
    "\n",
    "        num_plate=(json.dumps(r.json(), indent=2))\n",
    "        info=(list(num_plate.split(\"candidates\")))\n",
    "        print(info)\n",
    "        plate=info[1]\n",
    "        plate=plate.split(',')[0:3]\n",
    "        p=plate[1]\n",
    "        p1= p.split(\":\")\n",
    "        number=p1[1]\n",
    "        number=number.replace('\"','')\n",
    "        number=number.lstrip()\n",
    "        print (number)\n",
    "\n",
    "        if number == \"MH120E4433\":\n",
    "            print(\"----------------------------\")\n",
    "            print(\"Owner Name: XYZ\")\n",
    "            print(\"Vehicle Nmuber: %s\"%number)\n",
    "            print(\"Address: ABCD\")\n",
    "\n",
    "    elif key == 27:\n",
    "        break\n",
    "\n",
    "cam.release()\n",
    "cv2.destroyAllWindows()"
   ]
  }
 ],
 "metadata": {
  "kernelspec": {
   "display_name": "Python 3 (ipykernel)",
   "language": "python",
   "name": "python3"
  },
  "language_info": {
   "codemirror_mode": {
    "name": "ipython",
    "version": 3
   },
   "file_extension": ".py",
   "mimetype": "text/x-python",
   "name": "python",
   "nbconvert_exporter": "python",
   "pygments_lexer": "ipython3",
   "version": "3.9.13"
  }
 },
 "nbformat": 4,
 "nbformat_minor": 5
}
